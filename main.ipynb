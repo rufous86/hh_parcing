{
 "cells": [
  {
   "cell_type": "code",
   "execution_count": 1,
   "id": "7f2d71e8-3508-4fe2-99e4-51ded14553e2",
   "metadata": {},
   "outputs": [],
   "source": [
    "import pandas as pd"
   ]
  },
  {
   "cell_type": "code",
   "execution_count": 3,
   "id": "bb05f9b1-0047-4667-9ad1-95495c64005f",
   "metadata": {},
   "outputs": [
    {
     "data": {
      "text/html": [
       "<div>\n",
       "<style scoped>\n",
       "    .dataframe tbody tr th:only-of-type {\n",
       "        vertical-align: middle;\n",
       "    }\n",
       "\n",
       "    .dataframe tbody tr th {\n",
       "        vertical-align: top;\n",
       "    }\n",
       "\n",
       "    .dataframe thead th {\n",
       "        text-align: right;\n",
       "    }\n",
       "</style>\n",
       "<table border=\"1\" class=\"dataframe\">\n",
       "  <thead>\n",
       "    <tr style=\"text-align: right;\">\n",
       "      <th></th>\n",
       "      <th>name</th>\n",
       "      <th>schedule</th>\n",
       "      <th>accept_temporary</th>\n",
       "      <th>published_at</th>\n",
       "      <th>city</th>\n",
       "      <th>salary_from</th>\n",
       "      <th>salary_to</th>\n",
       "    </tr>\n",
       "  </thead>\n",
       "  <tbody>\n",
       "    <tr>\n",
       "      <th>0</th>\n",
       "      <td>Data scientist</td>\n",
       "      <td>remote</td>\n",
       "      <td>False</td>\n",
       "      <td>2022-12-29T12:15:51+0300</td>\n",
       "      <td>Москва</td>\n",
       "      <td>150000.0</td>\n",
       "      <td>200000.0</td>\n",
       "    </tr>\n",
       "    <tr>\n",
       "      <th>1</th>\n",
       "      <td>Machine Learning Engineer, Разработка средств ...</td>\n",
       "      <td>fullDay</td>\n",
       "      <td>False</td>\n",
       "      <td>2022-12-27T08:07:42+0300</td>\n",
       "      <td>Уфа</td>\n",
       "      <td>80000.0</td>\n",
       "      <td>80000.0</td>\n",
       "    </tr>\n",
       "    <tr>\n",
       "      <th>2</th>\n",
       "      <td>Machine learning engineer/ разработчик машинно...</td>\n",
       "      <td>remote</td>\n",
       "      <td>False</td>\n",
       "      <td>2022-12-19T13:22:24+0300</td>\n",
       "      <td>Пермь</td>\n",
       "      <td>200000.0</td>\n",
       "      <td>400000.0</td>\n",
       "    </tr>\n",
       "    <tr>\n",
       "      <th>3</th>\n",
       "      <td>Senior Machine Learning Engineer (NLP/Speech)</td>\n",
       "      <td>fullDay</td>\n",
       "      <td>False</td>\n",
       "      <td>2022-12-19T09:10:55+0300</td>\n",
       "      <td>Сочи</td>\n",
       "      <td>314000.0</td>\n",
       "      <td>314000.0</td>\n",
       "    </tr>\n",
       "    <tr>\n",
       "      <th>4</th>\n",
       "      <td>Data Scientist (команда Поиска)</td>\n",
       "      <td>fullDay</td>\n",
       "      <td>False</td>\n",
       "      <td>2022-12-19T16:42:19+0300</td>\n",
       "      <td>Москва</td>\n",
       "      <td>350000.0</td>\n",
       "      <td>350000.0</td>\n",
       "    </tr>\n",
       "  </tbody>\n",
       "</table>\n",
       "</div>"
      ],
      "text/plain": [
       "                                                name schedule  \\\n",
       "0                                     Data scientist   remote   \n",
       "1  Machine Learning Engineer, Разработка средств ...  fullDay   \n",
       "2  Machine learning engineer/ разработчик машинно...   remote   \n",
       "3      Senior Machine Learning Engineer (NLP/Speech)  fullDay   \n",
       "4                    Data Scientist (команда Поиска)  fullDay   \n",
       "\n",
       "   accept_temporary              published_at    city  salary_from  salary_to  \n",
       "0             False  2022-12-29T12:15:51+0300  Москва     150000.0   200000.0  \n",
       "1             False  2022-12-27T08:07:42+0300     Уфа      80000.0    80000.0  \n",
       "2             False  2022-12-19T13:22:24+0300   Пермь     200000.0   400000.0  \n",
       "3             False  2022-12-19T09:10:55+0300    Сочи     314000.0   314000.0  \n",
       "4             False  2022-12-19T16:42:19+0300  Москва     350000.0   350000.0  "
      ]
     },
     "execution_count": 3,
     "metadata": {},
     "output_type": "execute_result"
    }
   ],
   "source": [
    "df = pd.read_csv('data.csv')\n",
    "df.head()"
   ]
  },
  {
   "cell_type": "code",
   "execution_count": 4,
   "id": "8f31cd88-3f4d-4aca-9b53-548bf453639f",
   "metadata": {},
   "outputs": [
    {
     "name": "stdout",
     "output_type": "stream",
     "text": [
      "<class 'pandas.core.frame.DataFrame'>\n",
      "RangeIndex: 2286 entries, 0 to 2285\n",
      "Data columns (total 7 columns):\n",
      " #   Column            Non-Null Count  Dtype  \n",
      "---  ------            --------------  -----  \n",
      " 0   name              2286 non-null   object \n",
      " 1   schedule          2286 non-null   object \n",
      " 2   accept_temporary  2286 non-null   bool   \n",
      " 3   published_at      2286 non-null   object \n",
      " 4   city              2286 non-null   object \n",
      " 5   salary_from       2286 non-null   float64\n",
      " 6   salary_to         2286 non-null   float64\n",
      "dtypes: bool(1), float64(2), object(4)\n",
      "memory usage: 109.5+ KB\n"
     ]
    }
   ],
   "source": [
    "df.info()"
   ]
  }
 ],
 "metadata": {
  "kernelspec": {
   "display_name": "Python 3 (ipykernel)",
   "language": "python",
   "name": "python3"
  },
  "language_info": {
   "codemirror_mode": {
    "name": "ipython",
    "version": 3
   },
   "file_extension": ".py",
   "mimetype": "text/x-python",
   "name": "python",
   "nbconvert_exporter": "python",
   "pygments_lexer": "ipython3",
   "version": "3.9.12"
  }
 },
 "nbformat": 4,
 "nbformat_minor": 5
}
