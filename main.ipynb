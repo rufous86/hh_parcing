{
 "cells": [
  {
   "cell_type": "code",
   "execution_count": 17,
   "id": "7f2d71e8-3508-4fe2-99e4-51ded14553e2",
   "metadata": {},
   "outputs": [],
   "source": [
    "import pandas as pd\n",
    "import requests\n",
    "import numpy as np\n",
    "import matplotlib.pyplot as plt\n",
    "import seaborn as sns\n",
    "import plotly.express as px\n",
    "sns.set_style(style='darkgrid')\n",
    "import json"
   ]
  },
  {
   "cell_type": "code",
   "execution_count": 18,
   "id": "bb05f9b1-0047-4667-9ad1-95495c64005f",
   "metadata": {},
   "outputs": [
    {
     "data": {
      "text/html": [
       "<div>\n",
       "<style scoped>\n",
       "    .dataframe tbody tr th:only-of-type {\n",
       "        vertical-align: middle;\n",
       "    }\n",
       "\n",
       "    .dataframe tbody tr th {\n",
       "        vertical-align: top;\n",
       "    }\n",
       "\n",
       "    .dataframe thead th {\n",
       "        text-align: right;\n",
       "    }\n",
       "</style>\n",
       "<table border=\"1\" class=\"dataframe\">\n",
       "  <thead>\n",
       "    <tr style=\"text-align: right;\">\n",
       "      <th></th>\n",
       "      <th>id</th>\n",
       "      <th>name</th>\n",
       "      <th>schedule</th>\n",
       "      <th>accept_temporary</th>\n",
       "      <th>published_at</th>\n",
       "      <th>city</th>\n",
       "      <th>salary_mean</th>\n",
       "      <th>skills</th>\n",
       "      <th>experience</th>\n",
       "      <th>professional roles</th>\n",
       "      <th>employer</th>\n",
       "      <th>employer trusted</th>\n",
       "      <th>url</th>\n",
       "    </tr>\n",
       "  </thead>\n",
       "  <tbody>\n",
       "    <tr>\n",
       "      <th>0</th>\n",
       "      <td>74376536</td>\n",
       "      <td>Data scientist</td>\n",
       "      <td>remote</td>\n",
       "      <td>False</td>\n",
       "      <td>2022-12-29</td>\n",
       "      <td>Москва</td>\n",
       "      <td>175000.0</td>\n",
       "      <td>['Python', 'PyTorch', 'Machine Learning', 'Spa...</td>\n",
       "      <td>От 3 до 6 лет</td>\n",
       "      <td>Аналитик</td>\n",
       "      <td>Астор</td>\n",
       "      <td>True</td>\n",
       "      <td>https://hh.ru/vacancy/74376536</td>\n",
       "    </tr>\n",
       "    <tr>\n",
       "      <th>1</th>\n",
       "      <td>74419911</td>\n",
       "      <td>Senior Machine Learning Engineer</td>\n",
       "      <td>remote</td>\n",
       "      <td>True</td>\n",
       "      <td>2022-12-30</td>\n",
       "      <td>Тбилиси</td>\n",
       "      <td>325000.0</td>\n",
       "      <td>['Machine Learning', 'Python', 'Scikit-learn',...</td>\n",
       "      <td>От 3 до 6 лет</td>\n",
       "      <td>Программист, разработчик</td>\n",
       "      <td>ТРТ</td>\n",
       "      <td>True</td>\n",
       "      <td>https://hh.ru/vacancy/74419911</td>\n",
       "    </tr>\n",
       "    <tr>\n",
       "      <th>2</th>\n",
       "      <td>74290436</td>\n",
       "      <td>Machine Learning Engineer, Разработка средств ...</td>\n",
       "      <td>fullDay</td>\n",
       "      <td>False</td>\n",
       "      <td>2022-12-27</td>\n",
       "      <td>Уфа</td>\n",
       "      <td>80000.0</td>\n",
       "      <td>['Python', 'AutoCAD', 'C++', 'C/C++', 'MATLAB'...</td>\n",
       "      <td>От 3 до 6 лет</td>\n",
       "      <td>Программист, разработчик</td>\n",
       "      <td>Компания КРУС-Запад</td>\n",
       "      <td>True</td>\n",
       "      <td>https://hh.ru/vacancy/74290436</td>\n",
       "    </tr>\n",
       "    <tr>\n",
       "      <th>3</th>\n",
       "      <td>73999078</td>\n",
       "      <td>Machine learning engineer/ разработчик машинно...</td>\n",
       "      <td>remote</td>\n",
       "      <td>False</td>\n",
       "      <td>2022-12-19</td>\n",
       "      <td>Пермь</td>\n",
       "      <td>300000.0</td>\n",
       "      <td>['machine learning']</td>\n",
       "      <td>От 3 до 6 лет</td>\n",
       "      <td>Программист, разработчик</td>\n",
       "      <td>HR Агент</td>\n",
       "      <td>True</td>\n",
       "      <td>https://hh.ru/vacancy/73999078</td>\n",
       "    </tr>\n",
       "    <tr>\n",
       "      <th>4</th>\n",
       "      <td>70428858</td>\n",
       "      <td>Senior Machine Learning Engineer (NLP/Speech)</td>\n",
       "      <td>fullDay</td>\n",
       "      <td>False</td>\n",
       "      <td>2022-12-19</td>\n",
       "      <td>Сочи</td>\n",
       "      <td>314000.0</td>\n",
       "      <td>['Python', 'Git', 'Английский язык', 'Atlassia...</td>\n",
       "      <td>От 1 года до 3 лет</td>\n",
       "      <td>Программист, разработчик</td>\n",
       "      <td>Отраслевой центр разработки и внедрения информ...</td>\n",
       "      <td>True</td>\n",
       "      <td>https://hh.ru/vacancy/70428858</td>\n",
       "    </tr>\n",
       "  </tbody>\n",
       "</table>\n",
       "</div>"
      ],
      "text/plain": [
       "         id                                               name schedule  \\\n",
       "0  74376536                                     Data scientist   remote   \n",
       "1  74419911                   Senior Machine Learning Engineer   remote   \n",
       "2  74290436  Machine Learning Engineer, Разработка средств ...  fullDay   \n",
       "3  73999078  Machine learning engineer/ разработчик машинно...   remote   \n",
       "4  70428858      Senior Machine Learning Engineer (NLP/Speech)  fullDay   \n",
       "\n",
       "   accept_temporary published_at     city  salary_mean  \\\n",
       "0             False   2022-12-29   Москва     175000.0   \n",
       "1              True   2022-12-30  Тбилиси     325000.0   \n",
       "2             False   2022-12-27      Уфа      80000.0   \n",
       "3             False   2022-12-19    Пермь     300000.0   \n",
       "4             False   2022-12-19     Сочи     314000.0   \n",
       "\n",
       "                                              skills          experience  \\\n",
       "0  ['Python', 'PyTorch', 'Machine Learning', 'Spa...       От 3 до 6 лет   \n",
       "1  ['Machine Learning', 'Python', 'Scikit-learn',...       От 3 до 6 лет   \n",
       "2  ['Python', 'AutoCAD', 'C++', 'C/C++', 'MATLAB'...       От 3 до 6 лет   \n",
       "3                               ['machine learning']       От 3 до 6 лет   \n",
       "4  ['Python', 'Git', 'Английский язык', 'Atlassia...  От 1 года до 3 лет   \n",
       "\n",
       "         professional roles  \\\n",
       "0                  Аналитик   \n",
       "1  Программист, разработчик   \n",
       "2  Программист, разработчик   \n",
       "3  Программист, разработчик   \n",
       "4  Программист, разработчик   \n",
       "\n",
       "                                            employer  employer trusted  \\\n",
       "0                                              Астор              True   \n",
       "1                                                ТРТ              True   \n",
       "2                                Компания КРУС-Запад              True   \n",
       "3                                           HR Агент              True   \n",
       "4  Отраслевой центр разработки и внедрения информ...              True   \n",
       "\n",
       "                              url  \n",
       "0  https://hh.ru/vacancy/74376536  \n",
       "1  https://hh.ru/vacancy/74419911  \n",
       "2  https://hh.ru/vacancy/74290436  \n",
       "3  https://hh.ru/vacancy/73999078  \n",
       "4  https://hh.ru/vacancy/70428858  "
      ]
     },
     "execution_count": 18,
     "metadata": {},
     "output_type": "execute_result"
    }
   ],
   "source": [
    "df = pd.read_csv('data.csv')\n",
    "df['published_at'] = (pd.to_datetime(df['published_at'])).dt.date\n",
    "df.head()"
   ]
  },
  {
   "cell_type": "code",
   "execution_count": 19,
   "id": "8f31cd88-3f4d-4aca-9b53-548bf453639f",
   "metadata": {},
   "outputs": [
    {
     "name": "stdout",
     "output_type": "stream",
     "text": [
      "<class 'pandas.core.frame.DataFrame'>\n",
      "RangeIndex: 727 entries, 0 to 726\n",
      "Data columns (total 13 columns):\n",
      " #   Column              Non-Null Count  Dtype  \n",
      "---  ------              --------------  -----  \n",
      " 0   id                  727 non-null    int64  \n",
      " 1   name                727 non-null    object \n",
      " 2   schedule            727 non-null    object \n",
      " 3   accept_temporary    727 non-null    bool   \n",
      " 4   published_at        727 non-null    object \n",
      " 5   city                727 non-null    object \n",
      " 6   salary_mean         727 non-null    float64\n",
      " 7   skills              727 non-null    object \n",
      " 8   experience          727 non-null    object \n",
      " 9   professional roles  727 non-null    object \n",
      " 10  employer            727 non-null    object \n",
      " 11  employer trusted    727 non-null    bool   \n",
      " 12  url                 727 non-null    object \n",
      "dtypes: bool(2), float64(1), int64(1), object(9)\n",
      "memory usage: 64.0+ KB\n"
     ]
    }
   ],
   "source": [
    "df.info()"
   ]
  },
  {
   "cell_type": "code",
   "execution_count": 20,
   "id": "1c228773-5a46-4506-9037-1ab1786bc80c",
   "metadata": {},
   "outputs": [
    {
     "name": "stdout",
     "output_type": "stream",
     "text": [
      "schedule\n",
      "fullDay     402\n",
      "remote      269\n",
      "flexible     43\n",
      "shift        13\n",
      "Name: schedule, dtype: int64\n",
      "----------\n",
      "accept_temporary\n",
      "False    686\n",
      "True      41\n",
      "Name: accept_temporary, dtype: int64\n",
      "----------\n",
      "experience\n",
      "От 1 года до 3 лет    284\n",
      "От 3 до 6 лет         217\n",
      "Нет опыта             198\n",
      "Более 6 лет            28\n",
      "Name: experience, dtype: int64\n",
      "----------\n",
      "employer trusted\n",
      "True     719\n",
      "False      8\n",
      "Name: employer trusted, dtype: int64\n",
      "----------\n"
     ]
    }
   ],
   "source": [
    "for feature in ['schedule', 'accept_temporary', 'experience', 'employer trusted']:\n",
    "    print(feature)\n",
    "    print(df[feature].value_counts())\n",
    "    print('-'*10)"
   ]
  },
  {
   "cell_type": "code",
   "execution_count": 21,
   "id": "ba9f7774-e6ee-4461-9ea7-8b0f36c6d31a",
   "metadata": {},
   "outputs": [
    {
     "data": {
      "image/png": "[encoded data removed]",
      "text/plain": [
       "<Figure size 576x432 with 1 Axes>"
      ]
     },
     "metadata": {},
     "output_type": "display_data"
    }
   ],
   "source": [
    "plt.figure(figsize=(8, 6))\n",
    "sns.barplot(data=df, x='schedule', y='salary_mean', hue='experience', errwidth=0)\n",
    "plt.show()"
   ]
  },
  {
   "cell_type": "code",
   "execution_count": 22,
   "id": "d193d3f3-022c-4ff1-b982-cf7c67e72ae3",
   "metadata": {},
   "outputs": [
    {
     "data": {
      "image/png": "[encoded data removed]",
      "text/plain": [
       "<Figure size 1080x720 with 1 Axes>"
      ]
     },
     "metadata": {},
     "output_type": "display_data"
    }
   ],
   "source": [
    "city_list = (df.groupby('city')[['city', 'salary_mean']]\n",
    "                 .agg({'salary_mean': np.mean})\n",
    "                 .nlargest(10, 'salary_mean')\n",
    "                ).index\n",
    "plt.figure(figsize=(15, 10))\n",
    "sns.barplot(data=df[df['city'].isin(city_list)], x='city', y='salary_mean', hue='experience', errwidth=0)\n",
    "plt.show()"
   ]
  },
  {
   "cell_type": "code",
   "execution_count": null,
   "id": "165023d9-7539-4a1a-8229-93fe6efa9722",
   "metadata": {},
   "outputs": [],
   "source": [
    "# total_jobs = (df.groupby('city'))"
   ]
  }
 ],
 "metadata": {
  "kernelspec": {
   "display_name": "Python 3 (ipykernel)",
   "language": "python",
   "name": "python3"
  },
  "language_info": {
   "codemirror_mode": {
    "name": "ipython",
    "version": 3
   },
   "file_extension": ".py",
   "mimetype": "text/x-python",
   "name": "python",
   "nbconvert_exporter": "python",
   "pygments_lexer": "ipython3",
   "version": "3.9.12"
  },
  "vscode": {
   "interpreter": {
    "hash": "399345925c82d68922fa06ec39b952d959e0387678ead4039403665d0bb1adf8"
   }
  }
 },
 "nbformat": 4,
 "nbformat_minor": 5
}
