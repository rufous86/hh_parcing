{
 "cells": [
  {
   "cell_type": "code",
   "execution_count": 21,
   "id": "7f2d71e8-3508-4fe2-99e4-51ded14553e2",
   "metadata": {},
   "outputs": [],
   "source": [
    "import pandas as pd\n",
    "import requests\n",
    "import os"
   ]
  },
  {
   "cell_type": "code",
   "execution_count": 22,
   "id": "bb05f9b1-0047-4667-9ad1-95495c64005f",
   "metadata": {},
   "outputs": [
    {
     "data": {
      "text/html": [
       "<div>\n",
       "<style scoped>\n",
       "    .dataframe tbody tr th:only-of-type {\n",
       "        vertical-align: middle;\n",
       "    }\n",
       "\n",
       "    .dataframe tbody tr th {\n",
       "        vertical-align: top;\n",
       "    }\n",
       "\n",
       "    .dataframe thead th {\n",
       "        text-align: right;\n",
       "    }\n",
       "</style>\n",
       "<table border=\"1\" class=\"dataframe\">\n",
       "  <thead>\n",
       "    <tr style=\"text-align: right;\">\n",
       "      <th></th>\n",
       "      <th>id</th>\n",
       "      <th>name</th>\n",
       "      <th>schedule</th>\n",
       "      <th>accept_temporary</th>\n",
       "      <th>published_at</th>\n",
       "      <th>city</th>\n",
       "      <th>salary_mean</th>\n",
       "    </tr>\n",
       "  </thead>\n",
       "  <tbody>\n",
       "    <tr>\n",
       "      <th>0</th>\n",
       "      <td>74376536</td>\n",
       "      <td>Data scientist</td>\n",
       "      <td>remote</td>\n",
       "      <td>False</td>\n",
       "      <td>2022-12-29T12:15:51+0300</td>\n",
       "      <td>Москва</td>\n",
       "      <td>175000.0</td>\n",
       "    </tr>\n",
       "    <tr>\n",
       "      <th>1</th>\n",
       "      <td>74157498</td>\n",
       "      <td>Data scientist</td>\n",
       "      <td>fullDay</td>\n",
       "      <td>False</td>\n",
       "      <td>2022-12-22T17:50:42+0300</td>\n",
       "      <td>Москва</td>\n",
       "      <td>170000.0</td>\n",
       "    </tr>\n",
       "    <tr>\n",
       "      <th>2</th>\n",
       "      <td>54372021</td>\n",
       "      <td>TechLead Research Engineer (NLP/Speech)</td>\n",
       "      <td>remote</td>\n",
       "      <td>False</td>\n",
       "      <td>2022-12-23T10:07:53+0300</td>\n",
       "      <td>Москва</td>\n",
       "      <td>350000.0</td>\n",
       "    </tr>\n",
       "    <tr>\n",
       "      <th>3</th>\n",
       "      <td>54372020</td>\n",
       "      <td>TechLead Research Engineer (NLP/Speech)</td>\n",
       "      <td>remote</td>\n",
       "      <td>False</td>\n",
       "      <td>2022-12-23T10:07:50+0300</td>\n",
       "      <td>Санкт-Петербург</td>\n",
       "      <td>350000.0</td>\n",
       "    </tr>\n",
       "    <tr>\n",
       "      <th>4</th>\n",
       "      <td>54372019</td>\n",
       "      <td>TechLead Research Engineer (NLP/Speech)</td>\n",
       "      <td>remote</td>\n",
       "      <td>False</td>\n",
       "      <td>2022-12-23T10:07:47+0300</td>\n",
       "      <td>Иннополис</td>\n",
       "      <td>350000.0</td>\n",
       "    </tr>\n",
       "  </tbody>\n",
       "</table>\n",
       "</div>"
      ],
      "text/plain": [
       "         id                                     name schedule  \\\n",
       "0  74376536                           Data scientist   remote   \n",
       "1  74157498                           Data scientist  fullDay   \n",
       "2  54372021  TechLead Research Engineer (NLP/Speech)   remote   \n",
       "3  54372020  TechLead Research Engineer (NLP/Speech)   remote   \n",
       "4  54372019  TechLead Research Engineer (NLP/Speech)   remote   \n",
       "\n",
       "   accept_temporary              published_at             city  salary_mean  \n",
       "0             False  2022-12-29T12:15:51+0300           Москва     175000.0  \n",
       "1             False  2022-12-22T17:50:42+0300           Москва     170000.0  \n",
       "2             False  2022-12-23T10:07:53+0300           Москва     350000.0  \n",
       "3             False  2022-12-23T10:07:50+0300  Санкт-Петербург     350000.0  \n",
       "4             False  2022-12-23T10:07:47+0300        Иннополис     350000.0  "
      ]
     },
     "execution_count": 22,
     "metadata": {},
     "output_type": "execute_result"
    }
   ],
   "source": [
    "df = pd.read_csv('data.csv')\n",
    "df.head()"
   ]
  },
  {
   "cell_type": "code",
   "execution_count": 23,
   "id": "8f31cd88-3f4d-4aca-9b53-548bf453639f",
   "metadata": {},
   "outputs": [
    {
     "name": "stdout",
     "output_type": "stream",
     "text": [
      "<class 'pandas.core.frame.DataFrame'>\n",
      "RangeIndex: 33 entries, 0 to 32\n",
      "Data columns (total 7 columns):\n",
      " #   Column            Non-Null Count  Dtype  \n",
      "---  ------            --------------  -----  \n",
      " 0   id                33 non-null     int64  \n",
      " 1   name              33 non-null     object \n",
      " 2   schedule          33 non-null     object \n",
      " 3   accept_temporary  33 non-null     bool   \n",
      " 4   published_at      33 non-null     object \n",
      " 5   city              33 non-null     object \n",
      " 6   salary_mean       33 non-null     float64\n",
      "dtypes: bool(1), float64(1), int64(1), object(4)\n",
      "memory usage: 1.7+ KB\n"
     ]
    }
   ],
   "source": [
    "df.info()"
   ]
  },
  {
   "cell_type": "code",
   "execution_count": 28,
   "id": "2981b837-6087-4abe-83cd-182ec8292d7e",
   "metadata": {},
   "outputs": [
    {
     "name": "stdout",
     "output_type": "stream",
     "text": [
      "\u001b[H\u001b[2Jskill parcing: 3.03% comleted\n",
      "\u001b[H\u001b[2Jskill parcing: 6.06% comleted\n",
      "\u001b[H\u001b[2Jskill parcing: 9.09% comleted\n",
      "\u001b[H\u001b[2Jskill parcing: 12.12% comleted\n",
      "\u001b[H\u001b[2Jskill parcing: 15.15% comleted\n",
      "\u001b[H\u001b[2Jskill parcing: 18.18% comleted\n",
      "\u001b[H\u001b[2Jskill parcing: 21.21% comleted\n",
      "\u001b[H\u001b[2Jskill parcing: 24.24% comleted\n",
      "\u001b[H\u001b[2Jskill parcing: 27.27% comleted\n",
      "\u001b[H\u001b[2Jskill parcing: 30.30% comleted\n",
      "\u001b[H\u001b[2Jskill parcing: 33.33% comleted\n",
      "\u001b[H\u001b[2Jskill parcing: 36.36% comleted\n",
      "\u001b[H\u001b[2Jskill parcing: 39.39% comleted\n",
      "\u001b[H\u001b[2Jskill parcing: 42.42% comleted\n",
      "\u001b[H\u001b[2Jskill parcing: 45.45% comleted\n",
      "\u001b[H\u001b[2Jskill parcing: 48.48% comleted\n",
      "\u001b[H\u001b[2Jskill parcing: 51.52% comleted\n",
      "\u001b[H\u001b[2Jskill parcing: 54.55% comleted\n",
      "\u001b[H\u001b[2Jskill parcing: 57.58% comleted\n",
      "\u001b[H\u001b[2Jskill parcing: 60.61% comleted\n",
      "\u001b[H\u001b[2Jskill parcing: 63.64% comleted\n",
      "\u001b[H\u001b[2Jskill parcing: 66.67% comleted\n",
      "\u001b[H\u001b[2Jskill parcing: 69.70% comleted\n",
      "\u001b[H\u001b[2Jskill parcing: 72.73% comleted\n",
      "\u001b[H\u001b[2Jskill parcing: 75.76% comleted\n",
      "\u001b[H\u001b[2Jskill parcing: 78.79% comleted\n",
      "\u001b[H\u001b[2Jskill parcing: 81.82% comleted\n",
      "\u001b[H\u001b[2Jskill parcing: 84.85% comleted\n",
      "\u001b[H\u001b[2Jskill parcing: 87.88% comleted\n",
      "\u001b[H\u001b[2Jskill parcing: 90.91% comleted\n",
      "\u001b[H\u001b[2Jskill parcing: 93.94% comleted\n",
      "\u001b[H\u001b[2Jskill parcing: 96.97% comleted\n",
      "\u001b[H\u001b[2Jskill parcing: 100.00% comleted\n"
     ]
    }
   ],
   "source": [
    "skill_list = []\n",
    "\n",
    "for indx, id in enumerate(df['id']):\n",
    "    os.system('clear')    \n",
    "    req = requests.get(f'https://api.hh.ru/vacancies/{id}').json()\n",
    "    skills = [skill['name'] for skill in req['key_skills'] if isinstance(req, dict)]\n",
    "    skill_list.append(skills)\n",
    "    print(f'skill parcing: {(indx+1) * 100/len(df):.2f}% comleted')"
   ]
  }
 ],
 "metadata": {
  "kernelspec": {
   "display_name": "Python 3 (ipykernel)",
   "language": "python",
   "name": "python3"
  },
  "language_info": {
   "codemirror_mode": {
    "name": "ipython",
    "version": 3
   },
   "file_extension": ".py",
   "mimetype": "text/x-python",
   "name": "python",
   "nbconvert_exporter": "python",
   "pygments_lexer": "ipython3",
   "version": "3.9.12"
  }
 },
 "nbformat": 4,
 "nbformat_minor": 5
}
